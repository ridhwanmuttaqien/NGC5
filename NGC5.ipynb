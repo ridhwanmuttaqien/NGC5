{
  "nbformat": 4,
  "nbformat_minor": 0,
  "metadata": {
    "colab": {
      "provenance": []
    },
    "kernelspec": {
      "name": "python3",
      "display_name": "Python 3"
    },
    "language_info": {
      "name": "python"
    }
  },
  "cells": [
    {
      "cell_type": "code",
      "execution_count": 1,
      "metadata": {
        "id": "zQPpxa36ya36"
      },
      "outputs": [],
      "source": [
        "import numpy as np"
      ]
    },
    {
      "cell_type": "markdown",
      "source": [
        "1. Buatlah Tensor di bawah ini dengan Python:\n",
        "    23 50   57 67\n",
        "    7  12   99 43\n",
        "\n",
        "    75 21   87 26\n",
        "    57 12   18 84\n",
        "\n",
        "\n"
      ],
      "metadata": {
        "id": "jchDEFTqyifi"
      }
    },
    {
      "cell_type": "code",
      "source": [
        "from numpy import array\n",
        "T = array([[[[23,50],[7,12]],[[57,67],[99,43]]],[[[75,21],[57,12]],[[87,26],[18,84]]]])\n",
        "print(T.shape)\n",
        "print(T)"
      ],
      "metadata": {
        "colab": {
          "base_uri": "https://localhost:8080/"
        },
        "id": "xj59Aurk1GLu",
        "outputId": "e754338d-add2-42a0-b3a8-ae17cc076855"
      },
      "execution_count": 3,
      "outputs": [
        {
          "output_type": "stream",
          "name": "stdout",
          "text": [
            "(2, 2, 2, 2)\n",
            "[[[[23 50]\n",
            "   [ 7 12]]\n",
            "\n",
            "  [[57 67]\n",
            "   [99 43]]]\n",
            "\n",
            "\n",
            " [[[75 21]\n",
            "   [57 12]]\n",
            "\n",
            "  [[87 26]\n",
            "   [18 84]]]]\n"
          ]
        }
      ]
    },
    {
      "cell_type": "markdown",
      "source": [
        "2. Lakukan perkalian terhadap matrix berikut:\n",
        "  A = 23 50 19\n",
        "      7  12 109\n",
        "      57 67 98, \n",
        "      \n",
        "  B = 17\n",
        "      22\n",
        "      19\n"
      ],
      "metadata": {
        "id": "JfAsmR9f9OIA"
      }
    },
    {
      "cell_type": "code",
      "source": [
        "A = np.array([[23,50,19],\n",
        "              [7,12,109],\n",
        "              [57,67,98]])\n",
        "B = np.array([[17],[22],[19]])\n",
        "B"
      ],
      "metadata": {
        "colab": {
          "base_uri": "https://localhost:8080/"
        },
        "id": "P8ZUcVhz-H0e",
        "outputId": "bf5d9e58-7e76-459a-a830-d9897721d378"
      },
      "execution_count": 7,
      "outputs": [
        {
          "output_type": "execute_result",
          "data": {
            "text/plain": [
              "array([[17],\n",
              "       [22],\n",
              "       [19]])"
            ]
          },
          "metadata": {},
          "execution_count": 7
        }
      ]
    },
    {
      "cell_type": "code",
      "source": [
        "A"
      ],
      "metadata": {
        "colab": {
          "base_uri": "https://localhost:8080/"
        },
        "id": "0kTCadTo_xx4",
        "outputId": "f52a375b-1f63-47fa-f0aa-0c54376f2cbb"
      },
      "execution_count": 8,
      "outputs": [
        {
          "output_type": "execute_result",
          "data": {
            "text/plain": [
              "array([[ 23,  50,  19],\n",
              "       [  7,  12, 109],\n",
              "       [ 57,  67,  98]])"
            ]
          },
          "metadata": {},
          "execution_count": 8
        }
      ]
    },
    {
      "cell_type": "code",
      "source": [
        "A @ B"
      ],
      "metadata": {
        "colab": {
          "base_uri": "https://localhost:8080/"
        },
        "id": "EpSagl4H_3lI",
        "outputId": "661183ff-1e34-456a-9fb7-bfc372207ef3"
      },
      "execution_count": 9,
      "outputs": [
        {
          "output_type": "execute_result",
          "data": {
            "text/plain": [
              "array([[1852],\n",
              "       [2454],\n",
              "       [4305]])"
            ]
          },
          "metadata": {},
          "execution_count": 9
        }
      ]
    },
    {
      "cell_type": "markdown",
      "source": [
        "3. Lakukan Transpose, hitung determinan, dan inverse terhadap matrix di bawah ini:\n",
        "A = 23 50 19\n",
        "    7  12 109\n",
        "    57 67 98\n"
      ],
      "metadata": {
        "id": "0j9_X27QAHWm"
      }
    },
    {
      "cell_type": "code",
      "source": [
        "C = A.T\n",
        "print(C)"
      ],
      "metadata": {
        "colab": {
          "base_uri": "https://localhost:8080/"
        },
        "id": "ZlxJtc3XAgqp",
        "outputId": "6fcf99d9-2baa-4d86-b296-35bdbf992741"
      },
      "execution_count": 10,
      "outputs": [
        {
          "output_type": "stream",
          "name": "stdout",
          "text": [
            "[[ 23   7  57]\n",
            " [ 50  12  67]\n",
            " [ 19 109  98]]\n"
          ]
        }
      ]
    },
    {
      "cell_type": "code",
      "source": [
        "deter = np.linalg.det(A)\n",
        "print(deter)"
      ],
      "metadata": {
        "colab": {
          "base_uri": "https://localhost:8080/"
        },
        "id": "QcSzgB_7A3Fz",
        "outputId": "ae1b134e-d9f4-40d2-da6c-b77da8c10740"
      },
      "execution_count": 13,
      "outputs": [
        {
          "output_type": "stream",
          "name": "stdout",
          "text": [
            "131344.0000000002\n"
          ]
        }
      ]
    },
    {
      "cell_type": "code",
      "source": [
        "A_invers = np.linalg.inv(A)\n",
        "A_invers"
      ],
      "metadata": {
        "colab": {
          "base_uri": "https://localhost:8080/"
        },
        "id": "ejDhwOnVBeAk",
        "outputId": "e349a17a-02a3-4a0f-b1e4-93cb1ed337c1"
      },
      "execution_count": 14,
      "outputs": [
        {
          "output_type": "execute_result",
          "data": {
            "text/plain": [
              "array([[-0.0466485 , -0.02761451,  0.03975819],\n",
              "       [ 0.04208034,  0.00891552, -0.01807467],\n",
              "       [-0.00163692,  0.0099662 , -0.00056341]])"
            ]
          },
          "metadata": {},
          "execution_count": 14
        }
      ]
    }
  ]
}